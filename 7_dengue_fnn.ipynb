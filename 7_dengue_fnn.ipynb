{
 "cells": [
  {
   "cell_type": "code",
   "execution_count": 53,
   "metadata": {},
   "outputs": [],
   "source": [
    "import tensorflow as tf\n",
    "from tensorflow import keras\n",
    "import numpy as np\n",
    "import pandas as pd\n",
    "import datetime\n",
    "import os\n",
    "import csv\n",
    "import io\n",
    "import random\n",
    "import matplotlib.pyplot as plt\n",
    "%matplotlib inline\n",
    "from matplotlib.pyplot import figure\n",
    "from sklearn.metrics import mean_absolute_error as mae\n",
    "from sklearn.preprocessing import StandardScaler\n",
    "from sklearn.linear_model import LinearRegression\n",
    "from sklearn.metrics import confusion_matrix, accuracy_score"
   ]
  },
  {
   "cell_type": "code",
   "execution_count": 54,
   "metadata": {},
   "outputs": [],
   "source": [
    "ds = pd.read_csv('data.csv')\n",
    "ds = ds.sample(frac=1).reset_index(drop=True)\n",
    "# filter input/output factor(s)\n",
    "ds_x = ds.iloc[:, [1,2,3,4,5]]\n",
    "ds_y = ds.iloc[:,[-1]]\n",
    "# 80% training\n",
    "ds_train_x = ds_x[0:int(0.8*len(ds_x))]\n",
    "ds_train_x = np.array(ds_train_x)\n",
    "ds_train_y = ds_y[0:int(0.8*len(ds_y))]\n",
    "# 20% testing\n",
    "ds_test_x = ds_x[int(0.8*len(ds_x)):]\n",
    "ds_test_x = np.array(ds_test_x)\n",
    "ds_test_y = ds_y[int(0.8*len(ds_y)):]\n",
    "# feature scaling (normalization)\n",
    "sc = StandardScaler()\n",
    "ds_train_x = sc.fit_transform(ds_train_x)\n",
    "ds_test_x = sc.transform(ds_test_x)\n",
    "ds_train_y = np.array(ds_train_y)\n",
    "ds_test_y = np.array(ds_test_y)\n",
    "temp = []\n",
    "for i in ds_train_y:\n",
    "    temp.append(i[0])\n",
    "ds_train_y = np.array(temp)\n",
    "temp = []\n",
    "for i in ds_test_y:\n",
    "    temp.append(i[0])\n",
    "ds_test_y = np.array(temp)"
   ]
  },
  {
   "cell_type": "code",
   "execution_count": 55,
   "metadata": {},
   "outputs": [
    {
     "name": "stdout",
     "output_type": "stream",
     "text": [
      "R2 = 99.81131848620197%\n",
      "MSE = 0.0003806331032983539\n",
      "MAE = 0.004779207864196585\n"
     ]
    }
   ],
   "source": [
    "epochs = 300\n",
    "model = keras.Sequential()\n",
    "model.add(keras.layers.Dense(450, activation='relu', input_dim=5))\n",
    "#model.add(keras.layers.Dense(10))\n",
    "#model.add(keras.layers.Dense(10))\n",
    "model.add(keras.layers.Dense(1,activation='sigmoid')) # output layer; gives a 1D output\n",
    "model.compile(optimizer='adam', loss='mse', metrics=['accuracy'])\n",
    "history = model.fit(ds_train_x, ds_train_y, epochs=epochs, verbose=0)\n",
    "# apply to predictions\n",
    "predictions = model.predict(ds_test_x)\n",
    "predictions = predictions.reshape(len(predictions),)\n",
    "diff = ds_test_y - predictions\n",
    "corr_m = np.corrcoef(predictions, ds_test_y)\n",
    "r2 = corr_m[0,1] ** 2\n",
    "print('R2 = ' + str(r2*100) + \"%\")\n",
    "mse = np.square(diff).mean()\n",
    "print('MSE = ' + str(mse))\n",
    "mae = np.mean(np.abs(diff))\n",
    "print('MAE = ' + str(mae))"
   ]
  },
  {
   "cell_type": "code",
   "execution_count": 56,
   "metadata": {},
   "outputs": [],
   "source": [
    "#plt.plot(history.history['accuracy'])"
   ]
  },
  {
   "cell_type": "code",
   "execution_count": 57,
   "metadata": {},
   "outputs": [
    {
     "name": "stdout",
     "output_type": "stream",
     "text": [
      "Accuracy: 34/34 = 100.0%\n",
      "No outbreak occurred, no outbreak predicted: 28/34\n",
      "No outbreak occurred, outbreak predicted: 0/34\n",
      "Outbreak occurred, no outbreak predicted: 0/34\n",
      "Outbreak occurred, outbreak predicted: 6/34\n"
     ]
    }
   ],
   "source": [
    "# binary classification (from regression)\n",
    "for i in range(len(predictions)):\n",
    "    if predictions[i] >= 0.5:\n",
    "        predictions[i] = 1\n",
    "    else:\n",
    "        predictions[i] = 0\n",
    "ac = accuracy_score(ds_test_y,predictions)\n",
    "cm = confusion_matrix(ds_test_y, predictions)\n",
    "print('Accuracy: '+str(cm[0][0]+cm[1][1])+'/'+str(len(predictions))+' = '+str(ac*100)+'%')\n",
    "print('No outbreak occurred, no outbreak predicted: '+str(cm[0][0])+'/'+str(len(predictions)))\n",
    "print('No outbreak occurred, outbreak predicted: '+str(cm[0][1])+'/'+str(len(predictions)))\n",
    "print('Outbreak occurred, no outbreak predicted: '+str(cm[1][0])+'/'+str(len(predictions)))\n",
    "print('Outbreak occurred, outbreak predicted: '+str(cm[1][1])+'/'+str(len(predictions)))"
   ]
  },
  {
   "cell_type": "code",
   "execution_count": null,
   "metadata": {},
   "outputs": [],
   "source": []
  },
  {
   "cell_type": "code",
   "execution_count": null,
   "metadata": {},
   "outputs": [],
   "source": []
  }
 ],
 "metadata": {
  "kernelspec": {
   "display_name": "Python 3",
   "language": "python",
   "name": "python3"
  },
  "language_info": {
   "codemirror_mode": {
    "name": "ipython",
    "version": 3
   },
   "file_extension": ".py",
   "mimetype": "text/x-python",
   "name": "python",
   "nbconvert_exporter": "python",
   "pygments_lexer": "ipython3",
   "version": "3.8.3"
  }
 },
 "nbformat": 4,
 "nbformat_minor": 4
}
