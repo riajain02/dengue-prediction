{
 "cells": [
  {
   "cell_type": "code",
   "execution_count": 112,
   "metadata": {},
   "outputs": [],
   "source": [
    "import numpy as np\n",
    "import matplotlib.pyplot as plt\n",
    "import pandas as pd\n",
    "import sklearn\n",
    "from sklearn.preprocessing import StandardScaler\n",
    "from sklearn.naive_bayes import GaussianNB\n",
    "from sklearn.metrics import confusion_matrix, accuracy_score\n",
    "# from sklearn.preprocessing import LabelEncoder"
   ]
  },
  {
   "cell_type": "code",
   "execution_count": 113,
   "metadata": {},
   "outputs": [],
   "source": [
    "ds = pd.read_csv('data.csv')\n",
    "ds = ds.sample(frac=1).reset_index(drop=True)\n",
    "# filter input/output factor(s)\n",
    "ds_x = ds.iloc[:, [1,2,3,4,5]]\n",
    "ds_y = ds.iloc[:,[-1]]\n",
    "# ds_x, ds_y"
   ]
  },
  {
   "cell_type": "code",
   "execution_count": 114,
   "metadata": {},
   "outputs": [],
   "source": [
    "# 80% training\n",
    "ds_train_x = ds_x[0:int(0.8*len(ds_x))]\n",
    "ds_train_y = ds_y[0:int(0.8*len(ds_y))]\n",
    "# 20% testing\n",
    "ds_test_x = ds_x[int(0.8*len(ds_x)):]\n",
    "ds_test_y = ds_y[int(0.8*len(ds_y)):]"
   ]
  },
  {
   "cell_type": "code",
   "execution_count": 115,
   "metadata": {},
   "outputs": [],
   "source": [
    "# feature scaling (normalization)\n",
    "sc = StandardScaler()\n",
    "ds_train_x = sc.fit_transform(ds_train_x)\n",
    "ds_test_x = sc.transform(ds_test_x)\n",
    "ds_train_y = np.array(ds_train_y)\n",
    "ds_test_y = np.array(ds_test_y)\n",
    "temp = []\n",
    "for i in ds_train_y:\n",
    "    temp.append(i[0])\n",
    "ds_train_y = np.array(temp)\n",
    "temp = []\n",
    "for i in ds_test_y:\n",
    "    temp.append(i[0])\n",
    "ds_test_y = np.array(temp)"
   ]
  },
  {
   "cell_type": "code",
   "execution_count": 116,
   "metadata": {},
   "outputs": [
    {
     "name": "stdout",
     "output_type": "stream",
     "text": [
      "0.9705882352941176 [[31  1]\n",
      " [ 0  2]]\n"
     ]
    }
   ],
   "source": [
    "# train Naive Bayes model\n",
    "classifier = GaussianNB()\n",
    "classifier.fit(ds_train_x, ds_train_y)\n",
    "# apply to predictions\n",
    "predictions  =  classifier.predict(ds_test_x)\n",
    "ac = accuracy_score(ds_test_y,predictions)\n",
    "cm = confusion_matrix(ds_test_y, predictions)\n",
    "print(ac, cm)"
   ]
  },
  {
   "cell_type": "code",
   "execution_count": 124,
   "metadata": {},
   "outputs": [
    {
     "name": "stdout",
     "output_type": "stream",
     "text": [
      "Accuracy: 33/34 = 97.05882352941177%\n",
      "No outbreak occurred, no outbreak predicted: 31/34\n",
      "No outbreak occurred, outbreak predicted: 1/34\n",
      "Outbreak occurred, no outbreak predicted: 0/34\n",
      "Outbreak occurred, outbreak predicted: 2/34\n"
     ]
    }
   ],
   "source": [
    "print('Accuracy: '+str(cm[0][0]+cm[1][1])+'/'+str(len(predictions))+' = '+str(ac*100)+'%')\n",
    "print('No outbreak occurred, no outbreak predicted: '+str(cm[0][0])+'/'+str(len(predictions)))\n",
    "print('No outbreak occurred, outbreak predicted: '+str(cm[0][1])+'/'+str(len(predictions)))\n",
    "print('Outbreak occurred, no outbreak predicted: '+str(cm[1][0])+'/'+str(len(predictions)))\n",
    "print('Outbreak occurred, outbreak predicted: '+str(cm[1][1])+'/'+str(len(predictions)))"
   ]
  },
  {
   "cell_type": "code",
   "execution_count": null,
   "metadata": {},
   "outputs": [],
   "source": []
  }
 ],
 "metadata": {
  "kernelspec": {
   "display_name": "Python 3",
   "language": "python",
   "name": "python3"
  },
  "language_info": {
   "codemirror_mode": {
    "name": "ipython",
    "version": 3
   },
   "file_extension": ".py",
   "mimetype": "text/x-python",
   "name": "python",
   "nbconvert_exporter": "python",
   "pygments_lexer": "ipython3",
   "version": "3.8.3"
  }
 },
 "nbformat": 4,
 "nbformat_minor": 4
}
