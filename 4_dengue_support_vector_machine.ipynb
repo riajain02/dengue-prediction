{
 "cells": [
  {
   "cell_type": "code",
   "execution_count": 22,
   "metadata": {},
   "outputs": [],
   "source": [
    "import numpy as np\n",
    "import pandas as pd\n",
    "from sklearn.preprocessing import StandardScaler\n",
    "from sklearn import svm\n",
    "from sklearn.metrics import confusion_matrix, accuracy_score"
   ]
  },
  {
   "cell_type": "code",
   "execution_count": 23,
   "metadata": {},
   "outputs": [],
   "source": [
    "ds = pd.read_csv('data.csv')\n",
    "ds = ds.sample(frac=1).reset_index(drop=True)\n",
    "# filter input/output factor(s)\n",
    "ds_x = ds.iloc[:, [1,2,3,4,5]]\n",
    "ds_y = ds.iloc[:,[-1]]\n",
    "# 80% training\n",
    "ds_train_x = ds_x[0:int(0.8*len(ds_x))]\n",
    "ds_train_x = np.array(ds_train_x)\n",
    "ds_train_y = ds_y[0:int(0.8*len(ds_y))]\n",
    "# 20% testing\n",
    "ds_test_x = ds_x[int(0.8*len(ds_x)):]\n",
    "ds_test_x = np.array(ds_test_x)\n",
    "ds_test_y = ds_y[int(0.8*len(ds_y)):]\n",
    "# feature scaling (normalization)\n",
    "sc = StandardScaler()\n",
    "ds_train_x = sc.fit_transform(ds_train_x)\n",
    "ds_test_x = sc.transform(ds_test_x)\n",
    "ds_train_y = np.array(ds_train_y)\n",
    "ds_test_y = np.array(ds_test_y)\n",
    "temp = []\n",
    "for i in ds_train_y:\n",
    "    temp.append(i[0])\n",
    "ds_train_y = np.array(temp)\n",
    "temp = []\n",
    "for i in ds_test_y:\n",
    "    temp.append(i[0])\n",
    "ds_test_y = np.array(temp)"
   ]
  },
  {
   "cell_type": "code",
   "execution_count": 24,
   "metadata": {},
   "outputs": [
    {
     "name": "stdout",
     "output_type": "stream",
     "text": [
      "Accuracy: 34/34 = 100.0%\n",
      "No outbreak occurred, no outbreak predicted: 27/34\n",
      "No outbreak occurred, outbreak predicted: 0/34\n",
      "Outbreak occurred, no outbreak predicted: 0/34\n",
      "Outbreak occurred, outbreak predicted: 7/34\n"
     ]
    }
   ],
   "source": [
    "clf = svm.SVC(kernel='linear') # Linear Kernel\n",
    "clf.fit(ds_train_x, ds_train_y)\n",
    "# apply to predictions\n",
    "predictions = clf.predict(ds_test_x)\n",
    "ac = accuracy_score(ds_test_y,predictions)\n",
    "cm = confusion_matrix(ds_test_y, predictions)\n",
    "print('Accuracy: '+str(cm[0][0]+cm[1][1])+'/'+str(len(predictions))+' = '+str(ac*100)+'%')\n",
    "print('No outbreak occurred, no outbreak predicted: '+str(cm[0][0])+'/'+str(len(predictions)))\n",
    "print('No outbreak occurred, outbreak predicted: '+str(cm[0][1])+'/'+str(len(predictions)))\n",
    "print('Outbreak occurred, no outbreak predicted: '+str(cm[1][0])+'/'+str(len(predictions)))\n",
    "print('Outbreak occurred, outbreak predicted: '+str(cm[1][1])+'/'+str(len(predictions)))"
   ]
  },
  {
   "cell_type": "code",
   "execution_count": null,
   "metadata": {},
   "outputs": [],
   "source": []
  }
 ],
 "metadata": {
  "kernelspec": {
   "display_name": "Python 3",
   "language": "python",
   "name": "python3"
  },
  "language_info": {
   "codemirror_mode": {
    "name": "ipython",
    "version": 3
   },
   "file_extension": ".py",
   "mimetype": "text/x-python",
   "name": "python",
   "nbconvert_exporter": "python",
   "pygments_lexer": "ipython3",
   "version": "3.8.3"
  }
 },
 "nbformat": 4,
 "nbformat_minor": 4
}
